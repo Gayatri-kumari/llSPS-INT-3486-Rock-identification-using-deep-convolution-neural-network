{
 "cells": [
  {
   "cell_type": "code",
   "execution_count": 2,
   "metadata": {},
   "outputs": [
    {
     "name": "stderr",
     "output_type": "stream",
     "text": [
      "Using TensorFlow backend.\n",
      "C:\\Users\\Gayatri kumari\\anaconda3\\envs\\deeplearning\\lib\\site-packages\\tensorflow\\python\\framework\\dtypes.py:516: FutureWarning: Passing (type, 1) or '1type' as a synonym of type is deprecated; in a future version of numpy, it will be understood as (type, (1,)) / '(1,)type'.\n",
      "  _np_qint8 = np.dtype([(\"qint8\", np.int8, 1)])\n",
      "C:\\Users\\Gayatri kumari\\anaconda3\\envs\\deeplearning\\lib\\site-packages\\tensorflow\\python\\framework\\dtypes.py:517: FutureWarning: Passing (type, 1) or '1type' as a synonym of type is deprecated; in a future version of numpy, it will be understood as (type, (1,)) / '(1,)type'.\n",
      "  _np_quint8 = np.dtype([(\"quint8\", np.uint8, 1)])\n",
      "C:\\Users\\Gayatri kumari\\anaconda3\\envs\\deeplearning\\lib\\site-packages\\tensorflow\\python\\framework\\dtypes.py:518: FutureWarning: Passing (type, 1) or '1type' as a synonym of type is deprecated; in a future version of numpy, it will be understood as (type, (1,)) / '(1,)type'.\n",
      "  _np_qint16 = np.dtype([(\"qint16\", np.int16, 1)])\n",
      "C:\\Users\\Gayatri kumari\\anaconda3\\envs\\deeplearning\\lib\\site-packages\\tensorflow\\python\\framework\\dtypes.py:519: FutureWarning: Passing (type, 1) or '1type' as a synonym of type is deprecated; in a future version of numpy, it will be understood as (type, (1,)) / '(1,)type'.\n",
      "  _np_quint16 = np.dtype([(\"quint16\", np.uint16, 1)])\n",
      "C:\\Users\\Gayatri kumari\\anaconda3\\envs\\deeplearning\\lib\\site-packages\\tensorflow\\python\\framework\\dtypes.py:520: FutureWarning: Passing (type, 1) or '1type' as a synonym of type is deprecated; in a future version of numpy, it will be understood as (type, (1,)) / '(1,)type'.\n",
      "  _np_qint32 = np.dtype([(\"qint32\", np.int32, 1)])\n",
      "C:\\Users\\Gayatri kumari\\anaconda3\\envs\\deeplearning\\lib\\site-packages\\tensorflow\\python\\framework\\dtypes.py:525: FutureWarning: Passing (type, 1) or '1type' as a synonym of type is deprecated; in a future version of numpy, it will be understood as (type, (1,)) / '(1,)type'.\n",
      "  np_resource = np.dtype([(\"resource\", np.ubyte, 1)])\n",
      "C:\\Users\\Gayatri kumari\\anaconda3\\envs\\deeplearning\\lib\\site-packages\\tensorboard\\compat\\tensorflow_stub\\dtypes.py:541: FutureWarning: Passing (type, 1) or '1type' as a synonym of type is deprecated; in a future version of numpy, it will be understood as (type, (1,)) / '(1,)type'.\n",
      "  _np_qint8 = np.dtype([(\"qint8\", np.int8, 1)])\n",
      "C:\\Users\\Gayatri kumari\\anaconda3\\envs\\deeplearning\\lib\\site-packages\\tensorboard\\compat\\tensorflow_stub\\dtypes.py:542: FutureWarning: Passing (type, 1) or '1type' as a synonym of type is deprecated; in a future version of numpy, it will be understood as (type, (1,)) / '(1,)type'.\n",
      "  _np_quint8 = np.dtype([(\"quint8\", np.uint8, 1)])\n",
      "C:\\Users\\Gayatri kumari\\anaconda3\\envs\\deeplearning\\lib\\site-packages\\tensorboard\\compat\\tensorflow_stub\\dtypes.py:543: FutureWarning: Passing (type, 1) or '1type' as a synonym of type is deprecated; in a future version of numpy, it will be understood as (type, (1,)) / '(1,)type'.\n",
      "  _np_qint16 = np.dtype([(\"qint16\", np.int16, 1)])\n",
      "C:\\Users\\Gayatri kumari\\anaconda3\\envs\\deeplearning\\lib\\site-packages\\tensorboard\\compat\\tensorflow_stub\\dtypes.py:544: FutureWarning: Passing (type, 1) or '1type' as a synonym of type is deprecated; in a future version of numpy, it will be understood as (type, (1,)) / '(1,)type'.\n",
      "  _np_quint16 = np.dtype([(\"quint16\", np.uint16, 1)])\n",
      "C:\\Users\\Gayatri kumari\\anaconda3\\envs\\deeplearning\\lib\\site-packages\\tensorboard\\compat\\tensorflow_stub\\dtypes.py:545: FutureWarning: Passing (type, 1) or '1type' as a synonym of type is deprecated; in a future version of numpy, it will be understood as (type, (1,)) / '(1,)type'.\n",
      "  _np_qint32 = np.dtype([(\"qint32\", np.int32, 1)])\n",
      "C:\\Users\\Gayatri kumari\\anaconda3\\envs\\deeplearning\\lib\\site-packages\\tensorboard\\compat\\tensorflow_stub\\dtypes.py:550: FutureWarning: Passing (type, 1) or '1type' as a synonym of type is deprecated; in a future version of numpy, it will be understood as (type, (1,)) / '(1,)type'.\n",
      "  np_resource = np.dtype([(\"resource\", np.ubyte, 1)])\n"
     ]
    }
   ],
   "source": [
    "\n",
    "from keras.models import Sequential\n",
    "from keras.layers import Dense\n",
    "from keras.layers import Convolution2D\n",
    "from keras.layers import MaxPooling2D\n",
    "from keras.layers import Flatten"
   ]
  },
  {
   "cell_type": "code",
   "execution_count": 3,
   "metadata": {},
   "outputs": [],
   "source": [
    "\n",
    "from keras.preprocessing.image import ImageDataGenerator\n",
    "train_datagen=ImageDataGenerator(rescale=1./255,shear_range=0.2,zoom_range=0.2,horizontal_flip=True)\n",
    "test_datagen=ImageDataGenerator(rescale=1./255)"
   ]
  },
  {
   "cell_type": "code",
   "execution_count": 4,
   "metadata": {},
   "outputs": [
    {
     "name": "stdout",
     "output_type": "stream",
     "text": [
      "Found 510 images belonging to 3 classes.\n",
      "Found 90 images belonging to 3 classes.\n"
     ]
    }
   ],
   "source": [
    "x_train=train_datagen.flow_from_directory(r\"C:\\Users\\Gayatri kumari\\Desktop\\Dataset\\trainset\",target_size=(64,64),batch_size=32)\n",
    "x_test=test_datagen.flow_from_directory(r\"C:\\Users\\Gayatri kumari\\Desktop\\Dataset\\testset\",target_size=(64,64),batch_size=32)"
   ]
  },
  {
   "cell_type": "code",
   "execution_count": 5,
   "metadata": {},
   "outputs": [
    {
     "data": {
      "text/plain": [
       "{'igneous': 0, 'metamorphic': 1, 'sedimentary': 2}"
      ]
     },
     "execution_count": 5,
     "metadata": {},
     "output_type": "execute_result"
    }
   ],
   "source": [
    "x_train.class_indices\n"
   ]
  },
  {
   "cell_type": "code",
   "execution_count": 6,
   "metadata": {},
   "outputs": [],
   "source": [
    "model=Sequential()\n"
   ]
  },
  {
   "cell_type": "code",
   "execution_count": 7,
   "metadata": {},
   "outputs": [],
   "source": [
    "model.add(Convolution2D(32,(3,3),input_shape=(64,64,3),activation=\"relu\"))\n"
   ]
  },
  {
   "cell_type": "code",
   "execution_count": 8,
   "metadata": {},
   "outputs": [
    {
     "name": "stdout",
     "output_type": "stream",
     "text": [
      "WARNING:tensorflow:From C:\\Users\\Gayatri kumari\\anaconda3\\envs\\deeplearning\\lib\\site-packages\\keras\\backend\\tensorflow_backend.py:4070: The name tf.nn.max_pool is deprecated. Please use tf.nn.max_pool2d instead.\n",
      "\n"
     ]
    }
   ],
   "source": [
    "model.add(MaxPooling2D(pool_size = (2,2)))\n"
   ]
  },
  {
   "cell_type": "code",
   "execution_count": 9,
   "metadata": {},
   "outputs": [],
   "source": [
    "model.add(Flatten())\n"
   ]
  },
  {
   "cell_type": "code",
   "execution_count": 10,
   "metadata": {},
   "outputs": [
    {
     "name": "stderr",
     "output_type": "stream",
     "text": [
      "C:\\Users\\Gayatri kumari\\anaconda3\\envs\\deeplearning\\lib\\site-packages\\ipykernel_launcher.py:1: UserWarning: Update your `Dense` call to the Keras 2 API: `Dense(units=128, activation=\"relu\", kernel_initializer=\"uniform\")`\n",
      "  \"\"\"Entry point for launching an IPython kernel.\n"
     ]
    }
   ],
   "source": [
    "model.add(Dense(units=128,init=\"uniform\",activation=\"relu\"))\n"
   ]
  },
  {
   "cell_type": "code",
   "execution_count": 11,
   "metadata": {},
   "outputs": [
    {
     "name": "stderr",
     "output_type": "stream",
     "text": [
      "C:\\Users\\Gayatri kumari\\anaconda3\\envs\\deeplearning\\lib\\site-packages\\ipykernel_launcher.py:1: UserWarning: Update your `Dense` call to the Keras 2 API: `Dense(units=3, activation=\"softmax\", kernel_initializer=\"uniform\")`\n",
      "  \"\"\"Entry point for launching an IPython kernel.\n"
     ]
    }
   ],
   "source": [
    "model.add(Dense(units=3,init=\"uniform\",activation=\"softmax\"))\n"
   ]
  },
  {
   "cell_type": "code",
   "execution_count": 12,
   "metadata": {},
   "outputs": [],
   "source": [
    "model.compile(loss=\"categorical_crossentropy\",optimizer=\"adam\",metrics=[\"accuracy\"])\n"
   ]
  },
  {
   "cell_type": "code",
   "execution_count": 13,
   "metadata": {},
   "outputs": [
    {
     "name": "stdout",
     "output_type": "stream",
     "text": [
      "WARNING:tensorflow:From C:\\Users\\Gayatri kumari\\anaconda3\\envs\\deeplearning\\lib\\site-packages\\keras\\backend\\tensorflow_backend.py:422: The name tf.global_variables is deprecated. Please use tf.compat.v1.global_variables instead.\n",
      "\n",
      "Epoch 1/25\n",
      "50/50 [==============================] - 26s 513ms/step - loss: 1.0911 - accuracy: 0.3871 - val_loss: 1.0902 - val_accuracy: 0.4669\n",
      "Epoch 2/25\n",
      "50/50 [==============================] - 22s 448ms/step - loss: 1.0334 - accuracy: 0.4492 - val_loss: 1.1784 - val_accuracy: 0.4515\n",
      "Epoch 3/25\n",
      "50/50 [==============================] - 23s 469ms/step - loss: 0.9665 - accuracy: 0.5088 - val_loss: 0.9349 - val_accuracy: 0.4849\n",
      "Epoch 4/25\n",
      "50/50 [==============================] - 22s 437ms/step - loss: 0.8917 - accuracy: 0.5728 - val_loss: 1.0745 - val_accuracy: 0.4868\n",
      "Epoch 5/25\n",
      "50/50 [==============================] - 22s 434ms/step - loss: 0.8389 - accuracy: 0.6112 - val_loss: 1.0692 - val_accuracy: 0.5385\n",
      "Epoch 6/25\n",
      "50/50 [==============================] - 25s 505ms/step - loss: 0.7645 - accuracy: 0.6813 - val_loss: 0.9865 - val_accuracy: 0.5552\n",
      "Epoch 7/25\n",
      "50/50 [==============================] - 26s 518ms/step - loss: 0.7097 - accuracy: 0.6926 - val_loss: 0.8973 - val_accuracy: 0.5348\n",
      "Epoch 8/25\n",
      "50/50 [==============================] - 32s 633ms/step - loss: 0.6225 - accuracy: 0.7465 - val_loss: 0.8329 - val_accuracy: 0.6054\n",
      "Epoch 9/25\n",
      "50/50 [==============================] - 30s 604ms/step - loss: 0.5750 - accuracy: 0.7641 - val_loss: 0.7147 - val_accuracy: 0.6739\n",
      "Epoch 10/25\n",
      "50/50 [==============================] - 26s 519ms/step - loss: 0.5093 - accuracy: 0.7942 - val_loss: 0.7298 - val_accuracy: 0.7003\n",
      "Epoch 11/25\n",
      "50/50 [==============================] - 25s 496ms/step - loss: 0.4742 - accuracy: 0.8149 - val_loss: 0.7953 - val_accuracy: 0.7191\n",
      "Epoch 12/25\n",
      "50/50 [==============================] - 22s 433ms/step - loss: 0.4323 - accuracy: 0.8294 - val_loss: 0.6924 - val_accuracy: 0.7659\n",
      "Epoch 13/25\n",
      "50/50 [==============================] - 24s 470ms/step - loss: 0.3949 - accuracy: 0.8570 - val_loss: 0.5146 - val_accuracy: 0.8212\n",
      "Epoch 14/25\n",
      "50/50 [==============================] - 23s 466ms/step - loss: 0.3355 - accuracy: 0.8813 - val_loss: 0.5031 - val_accuracy: 0.8211\n",
      "Epoch 15/25\n",
      "50/50 [==============================] - 24s 474ms/step - loss: 0.3310 - accuracy: 0.8821 - val_loss: 0.4640 - val_accuracy: 0.8411\n",
      "Epoch 16/25\n",
      "50/50 [==============================] - 24s 475ms/step - loss: 0.2788 - accuracy: 0.9103 - val_loss: 0.8530 - val_accuracy: 0.8228\n",
      "Epoch 17/25\n",
      "50/50 [==============================] - 21s 419ms/step - loss: 0.2626 - accuracy: 0.9039 - val_loss: 0.8011 - val_accuracy: 0.7977\n",
      "Epoch 18/25\n",
      "50/50 [==============================] - 21s 414ms/step - loss: 0.2352 - accuracy: 0.9273 - val_loss: 0.4396 - val_accuracy: 0.8796\n",
      "Epoch 19/25\n",
      "50/50 [==============================] - 22s 438ms/step - loss: 0.2352 - accuracy: 0.9241 - val_loss: 0.4125 - val_accuracy: 0.8460\n",
      "Epoch 20/25\n",
      "50/50 [==============================] - 23s 462ms/step - loss: 0.2023 - accuracy: 0.9366 - val_loss: 0.8758 - val_accuracy: 0.8746\n",
      "Epoch 21/25\n",
      "50/50 [==============================] - 25s 496ms/step - loss: 0.1893 - accuracy: 0.9328 - val_loss: 1.0545 - val_accuracy: 0.7676\n",
      "Epoch 22/25\n",
      "50/50 [==============================] - 24s 490ms/step - loss: 0.2091 - accuracy: 0.9297 - val_loss: 0.4418 - val_accuracy: 0.8990\n",
      "Epoch 23/25\n",
      "50/50 [==============================] - 24s 489ms/step - loss: 0.1711 - accuracy: 0.9391 - val_loss: 0.2222 - val_accuracy: 0.8796\n",
      "Epoch 24/25\n",
      "50/50 [==============================] - 24s 487ms/step - loss: 0.1482 - accuracy: 0.9523 - val_loss: 0.6801 - val_accuracy: 0.9080\n",
      "Epoch 25/25\n",
      "50/50 [==============================] - 22s 430ms/step - loss: 0.1258 - accuracy: 0.9642 - val_loss: 0.5394 - val_accuracy: 0.9007\n"
     ]
    },
    {
     "data": {
      "text/plain": [
       "<keras.callbacks.callbacks.History at 0x2add8cfd668>"
      ]
     },
     "execution_count": 13,
     "metadata": {},
     "output_type": "execute_result"
    }
   ],
   "source": [
    "model.fit_generator(x_train,steps_per_epoch=50,validation_data=x_test,validation_steps=20,epochs=25)\n"
   ]
  },
  {
   "cell_type": "code",
   "execution_count": 14,
   "metadata": {},
   "outputs": [],
   "source": [
    "model.save(\"cnnrock.h5\")\n"
   ]
  },
  {
   "cell_type": "code",
   "execution_count": null,
   "metadata": {},
   "outputs": [],
   "source": []
  }
 ],
 "metadata": {
  "kernelspec": {
   "display_name": "Python 3",
   "language": "python",
   "name": "python3"
  },
  "language_info": {
   "codemirror_mode": {
    "name": "ipython",
    "version": 3
   },
   "file_extension": ".py",
   "mimetype": "text/x-python",
   "name": "python",
   "nbconvert_exporter": "python",
   "pygments_lexer": "ipython3",
   "version": "3.7.1"
  }
 },
 "nbformat": 4,
 "nbformat_minor": 4
}
